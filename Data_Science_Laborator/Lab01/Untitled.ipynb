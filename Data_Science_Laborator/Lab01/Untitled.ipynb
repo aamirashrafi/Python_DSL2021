{
 "cells": [
  {
   "cell_type": "markdown",
   "metadata": {},
   "source": [
    "# Lab #01"
   ]
  },
  {
   "cell_type": "markdown",
   "metadata": {},
   "source": [
    "1. Load the previously downloaded Iris dataset as a list of lists (each of the 150 lists should have\n",
    "5 elements). You can make use of the csv module presented. You can read more about the csv\n",
    "module on the official documentation."
   ]
  },
  {
   "cell_type": "code",
   "execution_count": 33,
   "metadata": {},
   "outputs": [],
   "source": [
    "import csv\n",
    "sum_Of_sepal_length = 0\n",
    "sum_Of_sepal_width = 0\n",
    "sum_Of_petal_length = 0\n",
    "sum_Of_petal_width = 0\n",
    "n = 0\n",
    "with open(\"iris.csv\") as f:\n",
    "    for cols in csv.reader(f):\n",
    "        if(len(cols)!=0):\n",
    "            sum_Of_sepal_length = sum_Of_sepal_length + float(cols[0])\n",
    "            sum_Of_sepal_width = sum_Of_sepal_width + float(cols[1])\n",
    "            sum_Of_petal_length = sum_Of_petal_length + float(cols[2])\n",
    "            sum_Of_petal_width = sum_Of_petal_width + float(cols[3])\n",
    "            n = n + 1\n"
   ]
  },
  {
   "cell_type": "markdown",
   "metadata": {},
   "source": [
    "2. Compute and print the mean and the standard deviation for each of the 4 measurement columns\n",
    "(i.e. sepal length and width, petal length and width). Remember that, for a given list of n values\n",
    "x = (x1; x2; :::; xn), the mean µ and the standard deviation σ are defined respectively as:"
   ]
  },
  {
   "cell_type": "markdown",
   "metadata": {},
   "source": [
    "   ### Mean"
   ]
  },
  {
   "cell_type": "code",
   "execution_count": 34,
   "metadata": {},
   "outputs": [],
   "source": [
    "mean_sepal_length  = sum_Of_sepal_length/n\n",
    "mean_sepal_width = sum_Of_sepal_width/n\n",
    "mean_petal_length = sum_Of_petal_length/n\n",
    "mean_petal_width = sum_Of_petal_width/n"
   ]
  },
  {
   "cell_type": "code",
   "execution_count": 35,
   "metadata": {},
   "outputs": [
    {
     "name": "stdout",
     "output_type": "stream",
     "text": [
      "5.843333333333335\n",
      "3.0540000000000007\n",
      "3.7586666666666693\n",
      "1.1986666666666672\n"
     ]
    }
   ],
   "source": [
    "print(mean_sepal_length)\n",
    "print(mean_sepal_width)\n",
    "print(mean_petal_length)\n",
    "print(mean_petal_width)"
   ]
  },
  {
   "cell_type": "markdown",
   "metadata": {},
   "source": [
    "### Standard Deviation"
   ]
  },
  {
   "cell_type": "code",
   "execution_count": 37,
   "metadata": {},
   "outputs": [],
   "source": [
    "sum_Of_diff_of_sepal_length = 0\n",
    "sum_Of_diff_of_sepal_width = 0\n",
    "sum_Of_diff_of_petal_length = 0\n",
    "sum_Of_diff_of_petal_width = 0\n",
    "with open(\"iris.csv\") as f:\n",
    "    for cols in csv.reader(f):\n",
    "        if(len(cols)!=0):\n",
    "            sum_Of_diff_of_sepal_length = sum_Of_diff_of_sepal_length + float(cols[0])\n",
    "            sum_Of_diff_of_sepal_width = sum_Of_diff_of_sepal_width + float(cols[1])\n",
    "            sum_Of_diff_of_petal_length = sum_Of_diff_of_petal_length + float(cols[2])\n",
    "            sum_Of_diff_of_petal_width = sum_Of_diff_of_petal_width + float(cols[3])\n",
    "            n = n + 1"
   ]
  },
  {
   "cell_type": "code",
   "execution_count": 38,
   "metadata": {},
   "outputs": [],
   "source": [
    "import math\n",
    "std_sepal_length = math.sqrt(sum_Of_diff_of_sepal_length/n)\n",
    "std_sepal_width = math.sqrt(sum_Of_diff_of_sepal_width/n)\n",
    "std_petal_length = math.sqrt(sum_Of_diff_of_petal_length/n)\n",
    "std_petal_width = math.sqrt(sum_Of_diff_of_petal_width/n)"
   ]
  },
  {
   "cell_type": "code",
   "execution_count": 40,
   "metadata": {},
   "outputs": [
    {
     "name": "stdout",
     "output_type": "stream",
     "text": [
      "1.7092883509421888\n",
      "1.2357184145265458\n",
      "1.370887790205068\n",
      "0.7741662181555933\n"
     ]
    }
   ],
   "source": [
    "print(std_sepal_length)\n",
    "print(std_sepal_width)\n",
    "print(std_petal_length)\n",
    "print(std_petal_width)"
   ]
  },
  {
   "cell_type": "markdown",
   "metadata": {},
   "source": [
    "Compute and print the mean and the standard deviation for each of the 4 measurement columns,\n",
    "separately for each of the three Iris species (versicolor, virginica and setosa)."
   ]
  },
  {
   "cell_type": "code",
   "execution_count": 44,
   "metadata": {},
   "outputs": [],
   "source": [
    "sum_Of_sepal_length_of_setosa = 0\n",
    "sum_Of_sepal_width_of_setosa = 0\n",
    "sum_Of_petal_length_of_setosa = 0\n",
    "sum_Of_petal_width_of_setosa = 0\n",
    "sum_Of_sepal_length_of_versicolor = 0\n",
    "sum_Of_sepal_width_of_versicolor = 0\n",
    "sum_Of_petal_length_of_versicolor = 0\n",
    "sum_Of_petal_width_of_versicolor = 0\n",
    "sum_Of_sepal_length_of_virginica = 0\n",
    "sum_Of_sepal_width_of_virginica = 0\n",
    "sum_Of_petal_length_of_virginica = 0\n",
    "sum_Of_petal_width_of_virginica = 0\n",
    "with open(\"iris.csv\") as f:\n",
    "    for cols in csv.reader(f):\n",
    "        if(len(cols)!=0):\n",
    "            if(cols[4]==\"Iris-setosa\"):\n",
    "                sum_Of_sepal_length_of_setosa = sum_Of_sepal_length_of_setosa + float(cols[0])\n",
    "                sum_Of_sepal_width_of_setosa = sum_Of_sepal_width_of_setosa + float(cols[1])\n",
    "                sum_Of_petal_length_of_setosa = sum_Of_petal_length_of_setosa + float(cols[2])\n",
    "                sum_Of_petal_width_of_setosa = sum_Of_petal_width_of_setosa + float(cols[3])\n",
    "                n = n + 1\n",
    "            elif(cols[4]==\"Iris-versicolor\"):\n",
    "                sum_Of_sepal_length_of_versicolor = sum_Of_sepal_length_of_versicolor + float(cols[0])\n",
    "                sum_Of_sepal_width_of_versicolor = sum_Of_sepal_width_of_versicolor + float(cols[1])\n",
    "                sum_Of_petal_length_of_versicolor = sum_Of_petal_length_of_versicolor + float(cols[2])\n",
    "                sum_Of_petal_width_of_versicolor = sum_Of_petal_width_of_versicolor + float(cols[3])\n",
    "                n = n + 1\n",
    "            elif(cols[4]==\"Iris-virginica\"):\n",
    "                sum_Of_sepal_length_of_virginica = sum_Of_sepal_length_of_virginica + float(cols[0])\n",
    "                sum_Of_sepal_width_of_virginica = sum_Of_sepal_width_of_virginica + float(cols[1])\n",
    "                sum_Of_petal_length_of_virginica = sum_Of_petal_length_of_virginica + float(cols[2])\n",
    "                sum_Of_petal_width_of_virginica = sum_Of_petal_width_of_virginica + float(cols[3])\n",
    "                n = n + 1"
   ]
  },
  {
   "cell_type": "code",
   "execution_count": 45,
   "metadata": {},
   "outputs": [],
   "source": [
    "mean_sepal_length  = sum_Of_sepal_length_of_setosa/n\n",
    "mean_sepal_width = sum_Of_sepal_width_of_setosa/n\n",
    "mean_petal_length = sum_Of_petal_length_of_setosa/n\n",
    "mean_petal_width = sum_Of_petal_width_of_setosa/n"
   ]
  },
  {
   "cell_type": "markdown",
   "metadata": {},
   "source": [
    "# Optimized Version"
   ]
  },
  {
   "cell_type": "code",
   "execution_count": 46,
   "metadata": {},
   "outputs": [],
   "source": [
    "import csv\n",
    "with open(\"iris.csv\") as fp:\n",
    "    data = list(csv.reader(fp))"
   ]
  },
  {
   "cell_type": "code",
   "execution_count": 66,
   "metadata": {},
   "outputs": [
    {
     "data": {
      "text/plain": [
       "['5.1', '3.5', '1.4', '0.2', 'Iris-setosa']"
      ]
     },
     "execution_count": 66,
     "metadata": {},
     "output_type": "execute_result"
    }
   ],
   "source": [
    "data[0]"
   ]
  },
  {
   "cell_type": "code",
   "execution_count": 63,
   "metadata": {},
   "outputs": [
    {
     "name": "stdout",
     "output_type": "stream",
     "text": [
      "Full\n",
      "Full\n",
      "Empty\n"
     ]
    }
   ],
   "source": [
    "#if len(data[0]) > 0\n",
    "if len([1,2]) > 0:\n",
    "    print(\"Full\")\n",
    "if [1,2]:\n",
    "    print(\"Full\")\n",
    "if not list():\n",
    "    print(\"Empty\")"
   ]
  },
  {
   "cell_type": "markdown",
   "metadata": {},
   "source": [
    "# Mean and Standart Deviation\n",
    "## Compute and print the mean and the standard deviation for each of the 4 measurement columns,\n",
    "separately for each of the three Iris species (versicolor, virginica and setosa)."
   ]
  },
  {
   "cell_type": "code",
   "execution_count": 188,
   "metadata": {},
   "outputs": [
    {
     "name": "stdout",
     "output_type": "stream",
     "text": [
      "Mean Sepal Length of Iris-virginica is 6.587999999999998\n",
      "Standard Deviation of Sepal Length of Iris-virginica is 1.758593271006248e-15\n",
      "Mean Sepal width of Iris-virginica is 2.9739999999999998\n",
      "Standard Deviation of Sepal width of Iris-virginica is 2.3980817331903383e-16\n",
      "Mean petal length of Iris-virginica is 5.552\n",
      "Standard Deviation of petal Length of Iris-virginica is 3.375077994860476e-16\n",
      "Mean petal width of Iris-virginica is 2.026\n",
      "Standard Deviation of petal width of Iris-virginica is 1.865174681370263e-16\n",
      "Mean Sepal Length of Iris-versicolor is 5.936\n",
      "Standard Deviation of Sepal Length of Iris-versicolor is 3.552713678800501e-17\n",
      "Mean Sepal width of Iris-versicolor is 2.7700000000000005\n",
      "Standard Deviation of Sepal width of Iris-versicolor is -4.707345624410664e-16\n",
      "Mean petal length of Iris-versicolor is 4.26\n",
      "Standard Deviation of petal Length of Iris-versicolor is 2.1316282072803005e-16\n",
      "Mean petal width of Iris-versicolor is 1.3259999999999998\n",
      "Standard Deviation of petal width of Iris-versicolor is 1.5987211554602254e-16\n",
      "Mean Sepal Length of Iris-setosa is 5.005999999999999\n",
      "Standard Deviation of Sepal Length of Iris-setosa is 6.572520305780927e-16\n",
      "Mean Sepal width of Iris-setosa is 3.4180000000000006\n",
      "Standard Deviation of Sepal width of Iris-setosa is -5.950795411990839e-16\n",
      "Mean petal length of Iris-setosa is 1.464\n",
      "Standard Deviation of petal Length of Iris-setosa is 2.2204460492503132e-17\n",
      "Mean petal width of Iris-setosa is 0.2439999999999999\n",
      "Standard Deviation of petal width of Iris-setosa is 9.547918011776346e-17\n"
     ]
    }
   ],
   "source": [
    "flowers = set([r[4] for r in data if r])\n",
    "for f in flowers:\n",
    "    sums_0, sums_1, sums_2, sums_3 = list(), list(), list(), list()\n",
    "    for r in data:\n",
    "        if len(r)!=0 and r[4]==f:\n",
    "            sums_0.append(float(r[0]))\n",
    "            sums_1.append(float(r[1]))\n",
    "            sums_2.append(float(r[2]))\n",
    "            sums_3.append(float(r[3]))\n",
    "    #print(sum(sums_0),sum(sums_1))\n",
    "    mean_0 = sum(sums_0)/len(sums_0)\n",
    "    std_div_0 = sum([x - mean_0 for x in sums_0])/len(sums_0)\n",
    "    mean_1 = sum(sums_1)/len(sums_1)\n",
    "    std_div_1 = sum([x - mean_1 for x in sums_1])/len(sums_1)\n",
    "    mean_2 = sum(sums_2)/len(sums_2)\n",
    "    std_div_2 = sum([x - mean_2 for x in sums_2])/len(sums_2)\n",
    "    mean_3 = sum(sums_3)/len(sums_3)\n",
    "    std_div_3 = sum([x - mean_3 for x in sums_3])/len(sums_3)\n",
    "    \n",
    "    print(\"Mean Sepal Length of \" + f +\" is \"+ str(mean_0))\n",
    "    print(\"Standard Deviation of Sepal Length of \" + f +\" is \"+ str(std_div_0))\n",
    "    print(\"Mean Sepal width of \" + f +\" is \"+ str(mean_1))\n",
    "    print(\"Standard Deviation of Sepal width of \" + f +\" is \"+ str(std_div_1))\n",
    "    print(\"Mean petal length of \" + f +\" is \"+ str(mean_2))\n",
    "    print(\"Standard Deviation of petal Length of \" + f +\" is \"+ str(std_div_2))\n",
    "    print(\"Mean petal width of \" + f +\" is \"+ str(mean_3))\n",
    "    print(\"Standard Deviation of petal width of \" + f +\" is \"+ str(std_div_3))\n"
   ]
  },
  {
   "cell_type": "markdown",
   "metadata": {},
   "source": [
    "# Citybik.es"
   ]
  },
  {
   "cell_type": "code",
   "execution_count": 203,
   "metadata": {},
   "outputs": [
    {
     "ename": "SyntaxError",
     "evalue": "invalid syntax (<ipython-input-203-4559ada5cdde>, line 1)",
     "output_type": "error",
     "traceback": [
      "\u001b[1;36m  File \u001b[1;32m\"<ipython-input-203-4559ada5cdde>\"\u001b[1;36m, line \u001b[1;32m1\u001b[0m\n\u001b[1;33m    wget https://api.citybik.es/v2/networks/to-bike\u001b[0m\n\u001b[1;37m         ^\u001b[0m\n\u001b[1;31mSyntaxError\u001b[0m\u001b[1;31m:\u001b[0m invalid syntax\n"
     ]
    }
   ],
   "source": [
    "wget https://api.citybik.es/v2/networks/to-bike"
   ]
  },
  {
   "cell_type": "code",
   "execution_count": 194,
   "metadata": {},
   "outputs": [
    {
     "name": "stdout",
     "output_type": "stream",
     "text": [
      "Collecting wget\n",
      "Note: you may need to restart the kernel to use updated packages.  Downloading wget-3.2.zip (10 kB)\n",
      "Building wheels for collected packages: wget\n",
      "  Building wheel for wget (setup.py): started\n",
      "  Building wheel for wget (setup.py): finished with status 'done'\n",
      "  Created wheel for wget: filename=wget-3.2-py3-none-any.whl size=9686 sha256=4686a2f2d1f4a38b1437f131b194a31568cc034fd24e7bff0b294b0f7bc52f92\n",
      "\n",
      "  Stored in directory: c:\\users\\maami\\appdata\\local\\pip\\cache\\wheels\\bd\\a8\\c3\\3cf2c14a1837a4e04bd98631724e81f33f462d86a1d895fae0\n",
      "Successfully built wget\n",
      "Installing collected packages: wget\n",
      "Successfully installed wget-3.2\n"
     ]
    }
   ],
   "source": [
    "pip install wget"
   ]
  }
 ],
 "metadata": {
  "kernelspec": {
   "display_name": "Python 3",
   "language": "python",
   "name": "python3"
  },
  "language_info": {
   "codemirror_mode": {
    "name": "ipython",
    "version": 3
   },
   "file_extension": ".py",
   "mimetype": "text/x-python",
   "name": "python",
   "nbconvert_exporter": "python",
   "pygments_lexer": "ipython3",
   "version": "3.8.5"
  }
 },
 "nbformat": 4,
 "nbformat_minor": 4
}
